{
 "cells": [
  {
   "cell_type": "markdown",
   "id": "97a703f4-1a3e-4952-a957-5722e445f966",
   "metadata": {},
   "source": [
    "## Step 1: Install the Aktus library"
   ]
  },
  {
   "cell_type": "code",
   "execution_count": null,
   "id": "25228947-f9d8-4497-950b-268a1f8b73a6",
   "metadata": {},
   "outputs": [],
   "source": [
    "!pip install aktus_unify-0.1.0-py3-none-any.whl"
   ]
  },
  {
   "cell_type": "markdown",
   "id": "77435fb3-933f-4e44-9fa7-9794b7befaf7",
   "metadata": {},
   "source": [
    "## Step 2: Import necessary packages"
   ]
  },
  {
   "cell_type": "code",
   "execution_count": null,
   "id": "208828d8-f285-4229-8798-4294bfa84b0e",
   "metadata": {},
   "outputs": [],
   "source": [
    "from aktus_unify import ocr, embedding, chat"
   ]
  },
  {
   "cell_type": "markdown",
   "id": "a4a7923f-c915-4a98-929b-8fd49fa484fb",
   "metadata": {},
   "source": [
    "## Step 3: Define Domain, Usecase and Start Ingestion"
   ]
  },
  {
   "cell_type": "code",
   "execution_count": null,
   "id": "16af1d20-f90d-432d-955f-3a581e0d3d25",
   "metadata": {},
   "outputs": [],
   "source": [
    "domain = \"\"\n",
    "usecase = \"\"\n",
    "# Create an embedding for all documents in the domain/usecase folder\n",
    "embedding_response = embedding.create_embedding(domain=domain, usecase=usecase, id=\"0\")\n",
    "print(embedding_response)"
   ]
  },
  {
   "cell_type": "markdown",
   "id": "a90411e4-5972-41c1-ab4c-8dbeeea42193",
   "metadata": {},
   "source": [
    "## Step 4: Observe task status"
   ]
  },
  {
   "cell_type": "markdown",
   "id": "c5e23206-307e-4a55-8a5f-632ce564b4e9",
   "metadata": {},
   "source": [
    "Running the below cell block will output something similar to this\n",
    "\n",
    "\n",
    "```\n",
    "handbook-revenue-recognition-40-47-7.pdf: {'id': '9e5e2c68-8a77-466d-8262-b79e15510ae8', 'status': 'SUCCESS', 'date_created': '2025-01-22T07:34:56.252000', 'date_updated': '2025-01-22T07:35:05.684000', 'expiration_date': None, 'result': {'result': None, 'task_name': 'notify_vdb_endpoint'}, 'service_name': 'service-ocr', 'task_metadata': {'llm_model': None, 'document_path': '/data/blob/document_upload/zach/test/handbook-revenue-recognition-40-47-7.pdf'}}\n",
    "```\n",
    "\n",
    "\n",
    "There could be one or multiple dictionaries printed (because multiple files can live under same domain/usecase), and only when `status` is `SUCCESS` and task_name is `notify_vdb_endpoint`, the ingestion for that specific file is completed. When the above is not observed, please rerun the code cell to see the updated status."
   ]
  },
  {
   "cell_type": "code",
   "execution_count": null,
   "id": "a34b2664-c55e-4f29-9b69-a8a5fb57e1e7",
   "metadata": {},
   "outputs": [],
   "source": [
    "ocr.check_tasks_status(embedding_response[\"task_ids\"])"
   ]
  },
  {
   "cell_type": "markdown",
   "id": "66ab09a8-1ff9-453a-b7e7-bcbfdac0a7ce",
   "metadata": {},
   "source": [
    "## Step 5: Chat"
   ]
  },
  {
   "cell_type": "code",
   "execution_count": null,
   "id": "86e39799-a38b-4336-8134-783e83d3c7ce",
   "metadata": {},
   "outputs": [],
   "source": [
    "from IPython.display import display, Markdown\n",
    "# Ask a question\n",
    "async for line in chat.ask_question(\n",
    "    user_question=\"\", \n",
    "    domain=domain, \n",
    "    usecase=usecase,\n",
    "):\n",
    "    display(Markdown((line)))"
   ]
  },
  {
   "cell_type": "code",
   "execution_count": null,
   "id": "e678a623-dee4-4bbe-9e3a-495121d8bc5c",
   "metadata": {},
   "outputs": [],
   "source": []
  }
 ],
 "metadata": {
  "kernelspec": {
   "display_name": "playground",
   "language": "python",
   "name": "playground"
  },
  "language_info": {
   "codemirror_mode": {
    "name": "ipython",
    "version": 3
   },
   "file_extension": ".py",
   "mimetype": "text/x-python",
   "name": "python",
   "nbconvert_exporter": "python",
   "pygments_lexer": "ipython3",
   "version": "3.12.4"
  }
 },
 "nbformat": 4,
 "nbformat_minor": 5
}
