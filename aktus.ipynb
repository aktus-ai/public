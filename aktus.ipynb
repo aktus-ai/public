{
 "cells": [
  {
   "cell_type": "markdown",
   "id": "97a703f4-1a3e-4952-a957-5722e445f966",
   "metadata": {},
   "source": [
    "## Step 1: Install the Aktus library"
   ]
  },
  {
   "cell_type": "code",
   "execution_count": null,
   "id": "25228947-f9d8-4497-950b-268a1f8b73a6",
   "metadata": {},
   "outputs": [],
   "source": [
    "!pip install aktus_unify-0.1.0-py3-none-any.whl"
   ]
  },
  {
   "cell_type": "markdown",
   "id": "77435fb3-933f-4e44-9fa7-9794b7befaf7",
   "metadata": {},
   "source": [
    "## Step 2: Import necessary packages"
   ]
  },
  {
   "cell_type": "code",
   "execution_count": null,
   "id": "208828d8-f285-4229-8798-4294bfa84b0e",
   "metadata": {},
   "outputs": [],
   "source": [
    "from aktus_unify import ocr, embedding, chat"
   ]
  },
  {
   "cell_type": "markdown",
   "id": "a4a7923f-c915-4a98-929b-8fd49fa484fb",
   "metadata": {},
   "source": [
    "## Step 3: Define Domain, Usecase and Start Ingestion"
   ]
  },
  {
   "cell_type": "code",
   "execution_count": null,
   "id": "16af1d20-f90d-432d-955f-3a581e0d3d25",
   "metadata": {},
   "outputs": [],
   "source": [
    "EMBEDDING_ENDPOINT = \"http://<your-embedding-endpoint>:8080/vectorindex/embed\"\n",
    "\n",
    "domain = \"\"\n",
    "usecase = \"\"\n",
    "# Create an embedding for all documents in the domain/usecase folder\n",
    "embedding_response = embedding.create_embedding(domain=domain, usecase=usecase, id=\"0\", endpoint_url=EMBEDDING_ENDPOINT)\n",
    "print(embedding_response)"
   ]
  },
  {
   "cell_type": "markdown",
   "id": "a90411e4-5972-41c1-ab4c-8dbeeea42193",
   "metadata": {},
   "source": [
    "## Step 4: Observe task status"
   ]
  },
  {
   "cell_type": "markdown",
   "id": "c5e23206-307e-4a55-8a5f-632ce564b4e9",
   "metadata": {},
   "source": [
    "Running the below cell block will output something similar to this:\n",
    "\n",
    "\n",
    "```\n",
    "<document-name>:\n",
    "    {\n",
    "        'id': '<some-uuid>',\n",
    "        'status': 'SUCCESS',\n",
    "        'date_created': '<some-utc-timestamp>',\n",
    "        'date_updated': '<some-utc-timestamp>',\n",
    "        'expiration_date': None,\n",
    "        'result':\n",
    "            {\n",
    "                'result': None,\n",
    "                'task_name': 'notify_vdb_endpoint'\n",
    "            },\n",
    "        'service_name': 'service-ocr',\n",
    "        'task_metadata':\n",
    "            {\n",
    "                'llm_model': None,\n",
    "                'document_path': '<path-to-document-on-azure-blob>'\n",
    "            }\n",
    "    }\n",
    "```\n",
    "\n",
    "There could be one or multiple dictionaries printed (because multiple files can live under same domain/usecase), and only when `status` is `SUCCESS` and task_name is `notify_vdb_endpoint`, the ingestion for that specific file is completed. When the above is not observed, please rerun the code cell to see the updated status."
   ]
  },
  {
   "cell_type": "code",
   "execution_count": null,
   "id": "a34b2664-c55e-4f29-9b69-a8a5fb57e1e7",
   "metadata": {},
   "outputs": [],
   "source": [
    "DB_MANAGER_ENDPOINT = \"http://<your-db-manager-endpoint>\"\n",
    "\n",
    "ocr.check_tasks_status(embedding_response[\"task_ids\"], endpoint_url=DB_MANAGER_ENDPOINT)\n"
   ]
  },
  {
   "cell_type": "markdown",
   "id": "66ab09a8-1ff9-453a-b7e7-bcbfdac0a7ce",
   "metadata": {},
   "source": [
    "## Step 5: Chat"
   ]
  },
  {
   "cell_type": "code",
   "execution_count": null,
   "id": "86e39799-a38b-4336-8134-783e83d3c7ce",
   "metadata": {},
   "outputs": [],
   "source": [
    "CHAT_ENDPOINT = \"http://<your-chat-endpoint>:8080/chat/copilot\"\n",
    "\n",
    "from IPython.display import display, Markdown\n",
    "# Ask a question\n",
    "async for line in chat.ask_question(\n",
    "    user_question=\"\", \n",
    "    domain=domain, \n",
    "    usecase=usecase,\n",
    "    endpoint_url=CHAT_ENDPOINT\n",
    "):\n",
    "    display(Markdown((line)))\n"
   ]
  },
  {
   "cell_type": "code",
   "execution_count": null,
   "id": "e678a623-dee4-4bbe-9e3a-495121d8bc5c",
   "metadata": {},
   "outputs": [],
   "source": []
  }
 ],
 "metadata": {
  "kernelspec": {
   "display_name": "Python 3 (ipykernel)",
   "language": "python",
   "name": "python3"
  },
  "language_info": {
   "codemirror_mode": {
    "name": "ipython",
    "version": 3
   },
   "file_extension": ".py",
   "mimetype": "text/x-python",
   "name": "python",
   "nbconvert_exporter": "python",
   "pygments_lexer": "ipython3",
   "version": "3.9.0"
  }
 },
 "nbformat": 4,
 "nbformat_minor": 5
}
