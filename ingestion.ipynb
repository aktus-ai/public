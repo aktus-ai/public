{
 "cells": [
  {
   "cell_type": "code",
   "execution_count": 18,
   "id": "c183d851-3d4c-4065-96ba-f71b3afca850",
   "metadata": {},
   "outputs": [],
   "source": [
    "import requests\n",
    "\n",
    "from typing import Mapping"
   ]
  },
  {
   "cell_type": "markdown",
   "id": "ffafec37-b697-4321-a3e5-fe0496e0531a",
   "metadata": {},
   "source": [
    "# Embed documents"
   ]
  },
  {
   "cell_type": "markdown",
   "id": "e6021338-98ce-48eb-b9b4-7111cc78b780",
   "metadata": {},
   "source": [
    "## Setting parameters"
   ]
  },
  {
   "cell_type": "code",
   "execution_count": 19,
   "id": "5f74c09f-3c2e-4f7a-a059-508f77c97848",
   "metadata": {},
   "outputs": [],
   "source": [
    "# Embedding model\n",
    "# Available values \"text-embedding-3-large\", \"text-embedding-3-small\", \"nomic-embed-text-v1.5\"\n",
    "embedding_model = \"text-embedding-3-large\" \n",
    "\n",
    "# id\n",
    "doc_id = \"0\" # using name doc_id here because id is a built-in python function\n",
    "\n",
    "# Domain\n",
    "domain = \"\"\n",
    "\n",
    "# Usecase\n",
    "usecase = \"\"\n",
    "\n",
    "# Chunking Strategy\n",
    "chunking_strategy = \"semantic\"\n",
    "\n",
    "# Metric Type\n",
    "# Available values \"cosine\", \"dotproduct\"\n",
    "metric_type = \"cosine\"\n",
    "\n",
    "# Debug info\n",
    "debug_info = None\n",
    "\n",
    "payload = {\n",
    "    \"id\": doc_id,\n",
    "    \"domain\": domain,\n",
    "    \"usecase\": usecase,\n",
    "    \"embedding_model\": embedding_model,\n",
    "    \"chunking_strategy\": chunking_strategy,\n",
    "    \"metric_type\": metric_type,\n",
    "    \"debug_info\": debug_info,\n",
    "}"
   ]
  },
  {
   "cell_type": "markdown",
   "id": "bd24bff2-6df8-4b08-87ff-761142cfd104",
   "metadata": {},
   "source": [
    "## Send requests to embedding url endpoint"
   ]
  },
  {
   "cell_type": "code",
   "execution_count": 20,
   "id": "d4cbb04f-9ef5-4992-9722-2244193bad21",
   "metadata": {},
   "outputs": [],
   "source": [
    "def make_request(url: str, payload: Mapping) -> requests.Response:\n",
    "    \"\"\"Make API request\"\"\"\n",
    "    headers = {\"accept\": \"application/json\", \"Content-Type\": \"application/json\"}\n",
    "    response = requests.post(url, json=payload, headers=headers, timeout=30)\n",
    "    response.raise_for_status()\n",
    "    return response"
   ]
  },
  {
   "cell_type": "code",
   "execution_count": 28,
   "id": "47571e1a-9b58-4e43-9fb8-d4b32ebe556b",
   "metadata": {},
   "outputs": [],
   "source": [
    "# Replace endpoint with correct url endpoint value\n",
    "endpoint_url = \"http://34.46.6.238:8080/vectorindex/embed\"\n",
    "\n",
    "response = make_request(\n",
    "    url=endpoint_url,\n",
    "    payload=payload\n",
    ")"
   ]
  },
  {
   "cell_type": "code",
   "execution_count": 29,
   "id": "ddaf0566-8c4c-4791-9d8c-c096900afc15",
   "metadata": {},
   "outputs": [
    {
     "data": {
      "text/plain": [
       "b'{\"vectordb_name\":\"143919a6-3d65-c44a-d506-0fa00d1bc335\",\"status\":\"created\"}'"
      ]
     },
     "execution_count": 29,
     "metadata": {},
     "output_type": "execute_result"
    }
   ],
   "source": [
    "response.content"
   ]
  },
  {
   "cell_type": "code",
   "execution_count": 26,
   "id": "867d2e84-c7b6-4438-976b-5d7ce5589da3",
   "metadata": {},
   "outputs": [
    {
     "data": {
      "text/plain": [
       "200"
      ]
     },
     "execution_count": 26,
     "metadata": {},
     "output_type": "execute_result"
    }
   ],
   "source": [
    "response.status_code"
   ]
  },
  {
   "cell_type": "code",
   "execution_count": null,
   "id": "f1205d0f-3e77-4b4c-ac64-39bcff9d942b",
   "metadata": {},
   "outputs": [],
   "source": []
  }
 ],
 "metadata": {
  "kernelspec": {
   "display_name": "Python 3 (ipykernel)",
   "language": "python",
   "name": "python3"
  },
  "language_info": {
   "codemirror_mode": {
    "name": "ipython",
    "version": 3
   },
   "file_extension": ".py",
   "mimetype": "text/x-python",
   "name": "python",
   "nbconvert_exporter": "python",
   "pygments_lexer": "ipython3",
   "version": "3.11.5"
  }
 },
 "nbformat": 4,
 "nbformat_minor": 5
}
