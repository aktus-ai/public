{
 "cells": [
  {
   "cell_type": "code",
   "execution_count": 18,
   "id": "2042be28-1321-48f0-a4ca-160b80475f14",
   "metadata": {},
   "outputs": [],
   "source": [
    "import requests\n",
    "\n",
    "from typing import Mapping, Generator\n",
    "\n",
    "import httpx\n",
    "import asyncio\n",
    "from IPython.display import display, Markdown"
   ]
  },
  {
   "cell_type": "markdown",
   "id": "125c8d2b-d3a8-482e-ab58-428a6365ef24",
   "metadata": {},
   "source": [
    "# Chat with documents"
   ]
  },
  {
   "cell_type": "markdown",
   "id": "40315190-d42c-4a5b-aa86-106cfc577412",
   "metadata": {},
   "source": [
    "## Setting questions to chat"
   ]
  },
  {
   "cell_type": "code",
   "execution_count": 81,
   "id": "0fa6a6fd-4605-4294-9ed5-a03859cb1c47",
   "metadata": {},
   "outputs": [],
   "source": [
    "question = \"\""
   ]
  },
  {
   "cell_type": "markdown",
   "id": "98f089e3-fc8d-4397-aba9-cfdb82d745ab",
   "metadata": {},
   "source": [
    "## Setting parameters"
   ]
  },
  {
   "cell_type": "code",
   "execution_count": 84,
   "id": "d586adf5-6f4f-4738-a991-d09ea199bbe6",
   "metadata": {},
   "outputs": [],
   "source": [
    "# Domain\n",
    "domain = \"\"\n",
    "\n",
    "# Usecase\n",
    "usecase = \"\"\n",
    "\n",
    "# Stream mode\n",
    "# Valid values: \"block\", \"word\"\n",
    "stream_mode = \"word\"\n",
    "\n",
    "# Debug info\n",
    "debug_info = None\n",
    "\n",
    "# Embedding model\n",
    "# Valid values: \"text-embedding-3-large\", \"text-embedding-3-small\", \"nomic-embed-text-v1.5\"\n",
    "embedding_model = \"text-embedding-3-large\"\n",
    "\n",
    "# Chunking Strategy\n",
    "chunking_strategy = \"semantic\"\n",
    "\n",
    "# Metric Type\n",
    "# Valid values: \"cosine\", \"dotproduct\"\n",
    "metric_type = \"cosine\"\n",
    "\n",
    "# LLM\n",
    "llm = {\n",
    "    \"model_name\": \"gpt-4o\",\n",
    "    \"inference_server\": \"openai\"\n",
    "}\n",
    "\n",
    "# Temperature\n",
    "# Values from 0.0 to 1.0\n",
    "temperature = 0\n",
    "\n",
    "# Top k \n",
    "top_k = 2\n",
    "\n",
    "# Embedding weight\n",
    "# Values from 0.0 to 1.0\n",
    "embeddings_weight = 0.7\n",
    "\n",
    "# Rerank method\n",
    "# Valid values: \"mmr\", \"similarity\"\n",
    "rerank_method = \"mmr\"\n",
    "\n",
    "# Retrieval method\n",
    "# Valid values: \"hybrid\", \"semantic\"\n",
    "retrieval_method = \"hybrid\"\n",
    "\n",
    "# Chain of Thought review\n",
    "# Boolean value\n",
    "cot_review = False\n",
    "\n",
    "# Chat History\n",
    "chat_history = []\n",
    "\n",
    "# Rewrite question\n",
    "# Valid values: \"best\", \"rrr\", \"storm\", \"hyde\", None\n",
    "rewrite_question = None\n",
    "\n",
    "# Decompose question\n",
    "# Valid values: \"breakdown\", None\n",
    "decompose_question = None\n",
    "\n",
    "payload = {\n",
    "    \"user_question\": question,\n",
    "    \"domain\": domain,\n",
    "    \"usecase\": usecase,\n",
    "    \"stream_mode\": stream_mode,\n",
    "    \"debug_info\": debug_info,\n",
    "    \"embedding_model\": embedding_model,\n",
    "    \"chunking_strategy\": chunking_strategy,\n",
    "    \"llm\": llm,\n",
    "    \"temperature\": temperature,\n",
    "    \"top_k\": top_k,\n",
    "    \"embeddings_weight\": embeddings_weight,\n",
    "    \"rerank_method\": rerank_method,\n",
    "    \"retrieval_method\": retrieval_method,\n",
    "    \"metric_type\": metric_type,\n",
    "    \"cot_review\": cot_review,\n",
    "    \"chat_history\": chat_history,\n",
    "    \"rewrite_question\": rewrite_question,\n",
    "    \"decompose_question\": decompose_question,\n",
    "}"
   ]
  },
  {
   "cell_type": "markdown",
   "id": "5896a623-32a6-40e4-bd44-4200f5556c08",
   "metadata": {},
   "source": [
    "## Send requests to chat url endpoint"
   ]
  },
  {
   "cell_type": "code",
   "execution_count": 72,
   "id": "d76e01c2-dd80-4c96-b9e9-a02917994759",
   "metadata": {},
   "outputs": [],
   "source": [
    "async def async_make_request(url: str, payload: dict):\n",
    "    \"\"\"Make an asynchronous API request with streaming\"\"\"\n",
    "    headers = {\"accept\": \"application/json\", \"Content-Type\": \"application/json\"}\n",
    "    async with httpx.AsyncClient(timeout=30) as client:\n",
    "        async with client.stream(\"POST\", url, json=payload, headers=headers) as response:\n",
    "            response.raise_for_status()\n",
    "            async for line in response.aiter_lines():\n",
    "                if line:  # Only process non-empty lines\n",
    "                    yield line"
   ]
  },
  {
   "cell_type": "code",
   "execution_count": null,
   "id": "9d709fbc-94e8-4778-9b20-7520d1410286",
   "metadata": {},
   "outputs": [],
   "source": [
    "# Replace endpoint with correct url endpoint value\n",
    "endpoint_url = \"http://34.121.117.114:8081/chat/copilot\"\n",
    "\n",
    "async for line in async_make_request(endpoint_url, payload):\n",
    "    display(Markdown(line))"
   ]
  },
  {
   "cell_type": "code",
   "execution_count": null,
   "id": "1bdb30fb-9d26-4e4c-b601-88659d7fa918",
   "metadata": {},
   "outputs": [],
   "source": []
  }
 ],
 "metadata": {
  "kernelspec": {
   "display_name": "Python 3 (ipykernel)",
   "language": "python",
   "name": "python3"
  },
  "language_info": {
   "codemirror_mode": {
    "name": "ipython",
    "version": 3
   },
   "file_extension": ".py",
   "mimetype": "text/x-python",
   "name": "python",
   "nbconvert_exporter": "python",
   "pygments_lexer": "ipython3",
   "version": "3.11.5"
  }
 },
 "nbformat": 4,
 "nbformat_minor": 5
}
